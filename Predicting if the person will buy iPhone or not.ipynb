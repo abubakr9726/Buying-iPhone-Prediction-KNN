{
 "cells": [
  {
   "cell_type": "code",
   "execution_count": 1,
   "id": "a72ecf3a",
   "metadata": {},
   "outputs": [],
   "source": [
    "# I have a dataset that shows which users have purchased an iPhone. \n",
    "# My goal in this project is to predict if the customer will purchase an iPhone or not using KNN,\n",
    "# given their gender, age and salary."
   ]
  },
  {
   "cell_type": "code",
   "execution_count": 2,
   "id": "a4f5531d",
   "metadata": {},
   "outputs": [],
   "source": [
    "# importing libraries\n",
    "import numpy as np\n",
    "from sklearn.neighbors import KNeighborsClassifier\n",
    "from sklearn.preprocessing import LabelEncoder, StandardScaler\n",
    "from sklearn.model_selection import train_test_split\n",
    "from sklearn import metrics\n",
    "import matplotlib.pyplot as plt\n",
    "import pandas as pd"
   ]
  },
  {
   "cell_type": "code",
   "execution_count": 3,
   "id": "b93eed54",
   "metadata": {},
   "outputs": [
    {
     "data": {
      "text/html": [
       "<div>\n",
       "<style scoped>\n",
       "    .dataframe tbody tr th:only-of-type {\n",
       "        vertical-align: middle;\n",
       "    }\n",
       "\n",
       "    .dataframe tbody tr th {\n",
       "        vertical-align: top;\n",
       "    }\n",
       "\n",
       "    .dataframe thead th {\n",
       "        text-align: right;\n",
       "    }\n",
       "</style>\n",
       "<table border=\"1\" class=\"dataframe\">\n",
       "  <thead>\n",
       "    <tr style=\"text-align: right;\">\n",
       "      <th></th>\n",
       "      <th>Gender</th>\n",
       "      <th>Age</th>\n",
       "      <th>Salary</th>\n",
       "      <th>Purchase Iphone</th>\n",
       "    </tr>\n",
       "  </thead>\n",
       "  <tbody>\n",
       "    <tr>\n",
       "      <th>0</th>\n",
       "      <td>Male</td>\n",
       "      <td>19</td>\n",
       "      <td>19000</td>\n",
       "      <td>0</td>\n",
       "    </tr>\n",
       "    <tr>\n",
       "      <th>1</th>\n",
       "      <td>Male</td>\n",
       "      <td>35</td>\n",
       "      <td>20000</td>\n",
       "      <td>0</td>\n",
       "    </tr>\n",
       "    <tr>\n",
       "      <th>2</th>\n",
       "      <td>Female</td>\n",
       "      <td>26</td>\n",
       "      <td>43000</td>\n",
       "      <td>0</td>\n",
       "    </tr>\n",
       "    <tr>\n",
       "      <th>3</th>\n",
       "      <td>Female</td>\n",
       "      <td>27</td>\n",
       "      <td>57000</td>\n",
       "      <td>0</td>\n",
       "    </tr>\n",
       "    <tr>\n",
       "      <th>4</th>\n",
       "      <td>Male</td>\n",
       "      <td>19</td>\n",
       "      <td>76000</td>\n",
       "      <td>0</td>\n",
       "    </tr>\n",
       "    <tr>\n",
       "      <th>5</th>\n",
       "      <td>Male</td>\n",
       "      <td>27</td>\n",
       "      <td>58000</td>\n",
       "      <td>0</td>\n",
       "    </tr>\n",
       "    <tr>\n",
       "      <th>6</th>\n",
       "      <td>Female</td>\n",
       "      <td>27</td>\n",
       "      <td>84000</td>\n",
       "      <td>0</td>\n",
       "    </tr>\n",
       "    <tr>\n",
       "      <th>7</th>\n",
       "      <td>Female</td>\n",
       "      <td>32</td>\n",
       "      <td>150000</td>\n",
       "      <td>1</td>\n",
       "    </tr>\n",
       "    <tr>\n",
       "      <th>8</th>\n",
       "      <td>Male</td>\n",
       "      <td>25</td>\n",
       "      <td>33000</td>\n",
       "      <td>0</td>\n",
       "    </tr>\n",
       "    <tr>\n",
       "      <th>9</th>\n",
       "      <td>Female</td>\n",
       "      <td>35</td>\n",
       "      <td>65000</td>\n",
       "      <td>0</td>\n",
       "    </tr>\n",
       "  </tbody>\n",
       "</table>\n",
       "</div>"
      ],
      "text/plain": [
       "   Gender  Age  Salary  Purchase Iphone\n",
       "0    Male   19   19000                0\n",
       "1    Male   35   20000                0\n",
       "2  Female   26   43000                0\n",
       "3  Female   27   57000                0\n",
       "4    Male   19   76000                0\n",
       "5    Male   27   58000                0\n",
       "6  Female   27   84000                0\n",
       "7  Female   32  150000                1\n",
       "8    Male   25   33000                0\n",
       "9  Female   35   65000                0"
      ]
     },
     "execution_count": 3,
     "metadata": {},
     "output_type": "execute_result"
    }
   ],
   "source": [
    "# reading the dataset\n",
    "data = pd.read_csv(\"iphone_purchase_records.csv\")\n",
    "data.head(10)"
   ]
  },
  {
   "cell_type": "code",
   "execution_count": 4,
   "id": "32314cbd",
   "metadata": {},
   "outputs": [],
   "source": [
    "# create dependent and independent variable\n",
    "X = data.iloc[:, :-1].values\n",
    "Y = data.iloc[:, 3].values"
   ]
  },
  {
   "cell_type": "code",
   "execution_count": 5,
   "id": "77edbd41",
   "metadata": {},
   "outputs": [],
   "source": [
    "# converting Gender (Male, Female) to Number (Male = 1, Female = 0)\n",
    "labelEncoder_gender = LabelEncoder()\n",
    "X[:, 0] = labelEncoder_gender.fit_transform(X[:,0])\n",
    "\n",
    "# converting \"X\" to int64 type\n",
    "X = np.vstack(X[:,:]).astype(np.int64)"
   ]
  },
  {
   "cell_type": "code",
   "execution_count": 6,
   "id": "5d8821f9",
   "metadata": {},
   "outputs": [],
   "source": [
    "# splitting data into train and test dataset\n",
    "X_train, X_test, Y_train, Y_test = train_test_split(X, Y, test_size=0.25, random_state=0)"
   ]
  },
  {
   "cell_type": "code",
   "execution_count": 7,
   "id": "38c5c91f",
   "metadata": {},
   "outputs": [],
   "source": [
    "# scaling our data for better performance\n",
    "st_Scaler = StandardScaler()\n",
    "X_train = st_Scaler.fit_transform(X_train)\n",
    "X_test = st_Scaler.transform(X_test)"
   ]
  },
  {
   "cell_type": "code",
   "execution_count": 8,
   "id": "6feaf426",
   "metadata": {},
   "outputs": [
    {
     "data": {
      "text/plain": [
       "KNeighborsClassifier()"
      ]
     },
     "execution_count": 8,
     "metadata": {},
     "output_type": "execute_result"
    }
   ],
   "source": [
    "# initializing KNN model\n",
    "knn = KNeighborsClassifier(n_neighbors=5, metric=\"minkowski\", p=2)   # p=2 Euclidean distance; p=1 Manhattan distance\n",
    "knn.fit(X_train, Y_train)"
   ]
  },
  {
   "cell_type": "code",
   "execution_count": 9,
   "id": "89f7b3f9",
   "metadata": {},
   "outputs": [],
   "source": [
    "# prediction\n",
    "prediction = knn.predict(X_test)"
   ]
  },
  {
   "cell_type": "code",
   "execution_count": 10,
   "id": "92d8022d",
   "metadata": {
    "scrolled": true
   },
   "outputs": [
    {
     "name": "stdout",
     "output_type": "stream",
     "text": [
      "Confusion Metrix: [[64  4]\n",
      " [ 3 29]]\n",
      "Accuracy: 0.93\n",
      "Precision: 0.8787878787878788\n",
      "Recall: 0.90625\n"
     ]
    }
   ],
   "source": [
    "# checking the Confusion Matrix\n",
    "confusionMatrix = metrics.confusion_matrix(Y_test, prediction)\n",
    "print(f\"Confusion Metrix: {confusionMatrix}\")\n",
    "# checking the Accuracy\n",
    "accuracy = metrics.accuracy_score(Y_test, prediction)\n",
    "print(f\"Accuracy: {accuracy}\")\n",
    "# checking the Precision\n",
    "precision = metrics.precision_score(Y_test, prediction)\n",
    "print(f\"Precision: {precision}\")\n",
    "# checking the Recall\n",
    "recall = metrics.recall_score(Y_test, prediction)\n",
    "print(f\"Recall: {recall}\")"
   ]
  },
  {
   "cell_type": "code",
   "execution_count": null,
   "id": "f5e26e67",
   "metadata": {},
   "outputs": [],
   "source": []
  },
  {
   "cell_type": "markdown",
   "id": "f51a41a9",
   "metadata": {},
   "source": [
    "**Without scaling the train and test data results:**\n",
    "\n",
    "| Confusion Matrix  |  Accuracy  |  Precision  |   Recall  | Incorrect prediction |\n",
    "|-------------------|------------|-------------|-----------|----------------------|\n",
    "|[[59, 9], [8 24]]  |    0.83    |   0.7272    |  0.75000  |     9 + 8  = 17      |\n",
    "\n",
    "\n",
    "**With scaling the train and test data results:**\n",
    "\n",
    "| Confusion Matrix  |  Accuracy  |  Precision  |   Recall  | Incorrect prediction |\n",
    "|-------------------|------------|-------------|-----------|----------------------|\n",
    "|[[64, 4], [3 29]]  |    0.93    |   0.8787    |  0.90625  |      4 + 3  = 7      |\n",
    "\n"
   ]
  },
  {
   "cell_type": "code",
   "execution_count": null,
   "id": "c92522b7",
   "metadata": {},
   "outputs": [],
   "source": []
  }
 ],
 "metadata": {
  "kernelspec": {
   "display_name": "Python 3 (ipykernel)",
   "language": "python",
   "name": "python3"
  },
  "language_info": {
   "codemirror_mode": {
    "name": "ipython",
    "version": 3
   },
   "file_extension": ".py",
   "mimetype": "text/x-python",
   "name": "python",
   "nbconvert_exporter": "python",
   "pygments_lexer": "ipython3",
   "version": "3.9.12"
  }
 },
 "nbformat": 4,
 "nbformat_minor": 5
}
